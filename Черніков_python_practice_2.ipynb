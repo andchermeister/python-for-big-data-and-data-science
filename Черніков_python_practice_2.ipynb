{
  "nbformat": 4,
  "nbformat_minor": 0,
  "metadata": {
    "colab": {
      "provenance": []
    },
    "kernelspec": {
      "name": "python3",
      "display_name": "Python 3"
    },
    "language_info": {
      "name": "python"
    }
  },
  "cells": [
    {
      "cell_type": "markdown",
      "source": [
        "# I. Змінні та памʼять."
      ],
      "metadata": {
        "id": "p9wwt0LZzNvn"
      }
    },
    {
      "cell_type": "markdown",
      "source": [
        "1. Створити змінні, що посилаються на два цілих числа, що однакові за значенням, де значення належить проміжку від -5 до 256. Перевірте, чи будуть ці змінні рівні тільки за значенням або ж ще будуть посилатися на один і той самий обʼєкт в памʼяті? Наведіть код та дайте текстову відповідь нижче."
      ],
      "metadata": {
        "id": "HTJrrm95xSV9"
      }
    },
    {
      "cell_type": "code",
      "execution_count": 1,
      "metadata": {
        "id": "TATni2vzayjG",
        "colab": {
          "base_uri": "https://localhost:8080/"
        },
        "outputId": "a8d66f45-303e-4d63-efa1-f5567056384a"
      },
      "outputs": [
        {
          "output_type": "stream",
          "name": "stdout",
          "text": [
            "a is b True\n"
          ]
        }
      ],
      "source": [
        "a = 5\n",
        "b = 5\n",
        "print(\"a is b \" + str(a is b))"
      ]
    },
    {
      "cell_type": "code",
      "source": [
        "id(a)"
      ],
      "metadata": {
        "colab": {
          "base_uri": "https://localhost:8080/"
        },
        "id": "wd_k8AEEbrmR",
        "outputId": "7b349960-73c7-4220-b4ef-4b86b82ef0c8"
      },
      "execution_count": 8,
      "outputs": [
        {
          "output_type": "execute_result",
          "data": {
            "text/plain": [
              "137003940823408"
            ]
          },
          "metadata": {},
          "execution_count": 8
        }
      ]
    },
    {
      "cell_type": "code",
      "source": [
        "id(b)"
      ],
      "metadata": {
        "colab": {
          "base_uri": "https://localhost:8080/"
        },
        "id": "ywUg6dbYcBjP",
        "outputId": "d0b4e29f-f50d-43b8-d314-fe94e0d07544"
      },
      "execution_count": 9,
      "outputs": [
        {
          "output_type": "execute_result",
          "data": {
            "text/plain": [
              "137003940823408"
            ]
          },
          "metadata": {},
          "execution_count": 9
        }
      ]
    },
    {
      "cell_type": "code",
      "source": [
        "c = 257\n",
        "d = 257\n",
        "print(\"c is b \" + str(c is d))"
      ],
      "metadata": {
        "colab": {
          "base_uri": "https://localhost:8080/"
        },
        "id": "ktL33SVpcEps",
        "outputId": "e3caa1c3-1bf3-4a63-b227-b52031296a96"
      },
      "execution_count": 10,
      "outputs": [
        {
          "output_type": "stream",
          "name": "stdout",
          "text": [
            "c is b False\n"
          ]
        }
      ]
    },
    {
      "cell_type": "markdown",
      "source": [
        "Значення чисел в проміжку від -5 до 256 є зарезервованими, тому якщо в нас ситуація, коли змінні посилаються на числа однакові за значенням в цьому проміжку то вони посилаються на один і той самий об'єкт в пам'яті. Якщо числа виходять за цей проміжок то об'єкти в пам'яті вже будуть відрізнятись.\n"
      ],
      "metadata": {
        "id": "zfRG_o3WbRdg"
      }
    },
    {
      "cell_type": "markdown",
      "source": [
        "2. За допомогою якої функції можна перевірити належність змінної до вказаного типу даних (напр. чи змінна True посилається на значення булевого та цілочисленого типу)?"
      ],
      "metadata": {
        "id": "ISORzt6M3vAt"
      }
    },
    {
      "cell_type": "code",
      "source": [
        "x = True\n",
        "\n",
        "print(isinstance(x, bool))\n",
        "print(isinstance(x, int))\n",
        "print(isinstance(x, str))"
      ],
      "metadata": {
        "id": "9vL9CFaMbfyo",
        "colab": {
          "base_uri": "https://localhost:8080/"
        },
        "outputId": "7dd667a2-17e8-43e6-d93c-1dd388a9bba3"
      },
      "execution_count": 11,
      "outputs": [
        {
          "output_type": "stream",
          "name": "stdout",
          "text": [
            "True\n",
            "True\n",
            "False\n"
          ]
        }
      ]
    },
    {
      "cell_type": "code",
      "source": [
        "y = \"myString\"\n",
        "\n",
        "print(isinstance(y, bool))\n",
        "print(isinstance(y, int))\n",
        "print(isinstance(y, str))"
      ],
      "metadata": {
        "colab": {
          "base_uri": "https://localhost:8080/"
        },
        "id": "kkzAOwDPcLmh",
        "outputId": "96fb8670-8df0-4fc9-a4dd-6afdc29bdeac"
      },
      "execution_count": 12,
      "outputs": [
        {
          "output_type": "stream",
          "name": "stdout",
          "text": [
            "False\n",
            "False\n",
            "True\n"
          ]
        }
      ]
    },
    {
      "cell_type": "markdown",
      "source": [
        "За допомогою функції isinstance()"
      ],
      "metadata": {
        "id": "9K_ictJhcTte"
      }
    },
    {
      "cell_type": "markdown",
      "source": [
        "# II. Цілі числа та числа з рухомою комою"
      ],
      "metadata": {
        "id": "tRxugKAxwYLw"
      }
    },
    {
      "cell_type": "markdown",
      "source": [
        "3. Створити дві змінні, що посилаються на будь-які ціле число та число з рухомою комою та продемонструвати такі арифметичні операції: додавання, віднімання, ділення, множення, ділення без залишку, ділення по модулю, приведення до ступеню. Всі результати операцій вивести на екран."
      ],
      "metadata": {
        "id": "NLHkgd5Gybc8"
      }
    },
    {
      "cell_type": "code",
      "source": [
        "int_var = 18\n",
        "float_var = 7.35\n",
        "\n",
        "# Додавання\n",
        "print('Додавання')\n",
        "print(int_var + float_var)\n",
        "print('#' * 25)\n",
        "\n",
        "# Віднімання\n",
        "print('Віднімання')\n",
        "print(int_var - float_var)\n",
        "print('#' * 25)\n",
        "\n",
        "# Ділення\n",
        "print('Ділення')\n",
        "print(int_var / float_var)\n",
        "print('#' * 25)\n",
        "\n",
        "# Множення\n",
        "print('Множення')\n",
        "print(int_var * float_var)\n",
        "print('#' * 25)\n",
        "\n",
        "# Ділення без залишку\n",
        "print('Ділення без залишку')\n",
        "print(int_var // float_var)\n",
        "print('#' * 25)\n",
        "\n",
        "# Ділення по модулю\n",
        "print('Ділення по модулю')\n",
        "print(int_var % float_var)\n",
        "print('#' * 25)\n",
        "\n",
        "# Приведення до ступення\n",
        "print('Приведення до ступення')\n",
        "print(int_var ** float_var)\n",
        "print('#' * 25)"
      ],
      "metadata": {
        "id": "nb8u_3pjb2cA",
        "colab": {
          "base_uri": "https://localhost:8080/"
        },
        "outputId": "d366c032-ded1-44ed-f7ba-03ea81dc8bfb"
      },
      "execution_count": 13,
      "outputs": [
        {
          "output_type": "stream",
          "name": "stdout",
          "text": [
            "Додавання\n",
            "25.35\n",
            "#########################\n",
            "Віднімання\n",
            "10.65\n",
            "#########################\n",
            "Ділення\n",
            "2.4489795918367347\n",
            "#########################\n",
            "Множення\n",
            "132.29999999999998\n",
            "#########################\n",
            "Ділення без залишку\n",
            "2.0\n",
            "#########################\n",
            "Ділення по модулю\n",
            "3.3000000000000007\n",
            "#########################\n",
            "Приведення до ступення\n",
            "1683654256.0225291\n",
            "#########################\n"
          ]
        }
      ]
    },
    {
      "cell_type": "markdown",
      "source": [
        "4. Використовуючи змінні з вправи 3, продемонструйте механізм явного перетворення типів, де числа з рухомою комою перетворюються на цілі числа. Також визначте змінну, що посилається на значення булевого типу і спробуйте явно привести її до цілого числа."
      ],
      "metadata": {
        "id": "1kBClKgPzZnC"
      }
    },
    {
      "cell_type": "code",
      "source": [
        "print(\"Значення змінної з рухомою комою до перетворення: \", float_var)\n",
        "print(\"Значення змінної з рухомою комою після перетворення: \", int(float_var))"
      ],
      "metadata": {
        "id": "TbqJbkeUcKsD",
        "colab": {
          "base_uri": "https://localhost:8080/"
        },
        "outputId": "a6d29715-05f3-4525-af53-776ec1b1528c"
      },
      "execution_count": 14,
      "outputs": [
        {
          "output_type": "stream",
          "name": "stdout",
          "text": [
            "Значення змінної з рухомою комою до перетворення:  7.35\n",
            "Значення змінної з рухомою комою після перетворення:  7\n"
          ]
        }
      ]
    },
    {
      "cell_type": "code",
      "source": [
        "bool_var = True\n",
        "\n",
        "print(\"Значення змінної булевого типу до перетворення: \", bool_var)\n",
        "print(\"Значення змінної булевого типу після перетворення: \", int(bool_var))"
      ],
      "metadata": {
        "colab": {
          "base_uri": "https://localhost:8080/"
        },
        "id": "GHRZ3hXRcg0t",
        "outputId": "1c047aa4-5387-4105-8aac-41583f7ee051"
      },
      "execution_count": 15,
      "outputs": [
        {
          "output_type": "stream",
          "name": "stdout",
          "text": [
            "Значення змінної булевого типу до перетворення:  True\n",
            "Значення змінної булевого типу після перетворення:  1\n"
          ]
        }
      ]
    },
    {
      "cell_type": "markdown",
      "source": [
        "# IІІ. Рядки (String)."
      ],
      "metadata": {
        "id": "EVJ7AflwxrZi"
      }
    },
    {
      "cell_type": "markdown",
      "source": [
        "5. Створити пустий рядок двома різними способами."
      ],
      "metadata": {
        "id": "_s5ECzz9zE61"
      }
    },
    {
      "cell_type": "code",
      "source": [
        "# Перший спосіб\n",
        "empty_string1 = ''\n",
        "# Другий спосіб\n",
        "empty_string2 = str()"
      ],
      "metadata": {
        "id": "fkZJHu9Scvc-"
      },
      "execution_count": 17,
      "outputs": []
    },
    {
      "cell_type": "markdown",
      "source": [
        "6. Створити рядок з апострофом. Зробити його сирим. Вивести обидва рядка на екран."
      ],
      "metadata": {
        "id": "4Bdn9J3MzLf_"
      }
    },
    {
      "cell_type": "code",
      "source": [
        "str_with_apostrophe = \" Цей рядок містить апостроф \\' \"\n",
        "print(str_with_apostrophe)\n",
        "\n",
        "print(f\"\\n {'#'*40} \\n\")\n",
        "\n",
        "raw_str_with_apostrophe = r' Цей сирий рядок також містить апостроф \\' '\n",
        "print(raw_str_with_apostrophe)"
      ],
      "metadata": {
        "id": "ivji_hsmc0GH",
        "colab": {
          "base_uri": "https://localhost:8080/"
        },
        "outputId": "3f5c443c-6129-44dc-d4f6-538825e7716c"
      },
      "execution_count": 18,
      "outputs": [
        {
          "output_type": "stream",
          "name": "stdout",
          "text": [
            " Цей рядок містить апостроф ' \n",
            "\n",
            " ######################################## \n",
            "\n",
            " Цей сирий рядок також містить апостроф \\' \n"
          ]
        }
      ]
    },
    {
      "cell_type": "markdown",
      "source": [
        "7. Створити змінну, що буде посилатися на Ваше прізвище латинкою. Створити форматований рядок, який буде мати вигляд \"My surname is ______\", де на місці нижніх підкреслень буде Ваше прізвище зі змінної."
      ],
      "metadata": {
        "id": "bg_d8wM4z8dS"
      }
    },
    {
      "cell_type": "code",
      "source": [
        "surname = \"Chernikov\"\n",
        "format_str = f\"My surname is {surname}\"\n",
        "print(format_str)"
      ],
      "metadata": {
        "id": "kuxFgpWndACq",
        "colab": {
          "base_uri": "https://localhost:8080/"
        },
        "outputId": "14f215d8-e8f2-44da-ab37-caca2ecd415a"
      },
      "execution_count": 55,
      "outputs": [
        {
          "output_type": "stream",
          "name": "stdout",
          "text": [
            "My surname is Chernikov\n"
          ]
        }
      ]
    },
    {
      "cell_type": "markdown",
      "source": [
        "8. Маючи рядок \"My dog is crazy.\" перетворити його на список [\"my\", \"dog\", \"is\", \"crazy\"]"
      ],
      "metadata": {
        "id": "1Nc6RqvQ0hxU"
      }
    },
    {
      "cell_type": "code",
      "source": [
        "dog_str_to_list = \"My dog is crazy\"\n",
        "dog_list = dog_str_to_list.lower().split()\n",
        "print(dog_list)"
      ],
      "metadata": {
        "id": "w1Ya4RqedUhw",
        "colab": {
          "base_uri": "https://localhost:8080/"
        },
        "outputId": "b888b751-7dba-4877-c063-7090aa5eff01"
      },
      "execution_count": 57,
      "outputs": [
        {
          "output_type": "stream",
          "name": "stdout",
          "text": [
            "['my', 'dog', 'is', 'crazy']\n"
          ]
        }
      ]
    },
    {
      "cell_type": "markdown",
      "source": [
        "# IV. Робота зі списками."
      ],
      "metadata": {
        "id": "GYVqN9uP1D4n"
      }
    },
    {
      "cell_type": "markdown",
      "source": [
        "9. Створити список двома різними за синтаксисом способами. За допомогою вбудованої функції обчисліть довжину одного з них."
      ],
      "metadata": {
        "id": "7-DeDunw2sO-"
      }
    },
    {
      "cell_type": "code",
      "source": [
        "print(\"Перший спосіб\")\n",
        "list1 = [1, 2, 3]\n",
        "print(list1)\n",
        "\n",
        "print()\n",
        "\n",
        "print(\"Другий спосіб\")\n",
        "list2 = list((1, 2, 3))\n",
        "print(list2)"
      ],
      "metadata": {
        "id": "zxg06Uuxdyoh",
        "colab": {
          "base_uri": "https://localhost:8080/"
        },
        "outputId": "10e1d860-61e8-459c-de40-ebe7f0fe1c99"
      },
      "execution_count": 58,
      "outputs": [
        {
          "output_type": "stream",
          "name": "stdout",
          "text": [
            "Перший спосіб\n",
            "[1, 2, 3]\n",
            "\n",
            "Другий спосіб\n",
            "[1, 2, 3]\n"
          ]
        }
      ]
    },
    {
      "cell_type": "markdown",
      "source": [
        "10. Створіть два списка та за допомогою спеціального методу додайте другий з них в якості останнього елемента першого."
      ],
      "metadata": {
        "id": "8vmGUTjL22gI"
      }
    },
    {
      "cell_type": "code",
      "source": [
        "first_list = list(('a', 'b', 'c'))\n",
        "print(first_list)\n",
        "\n",
        "second_list = list(('d', 'e', 'f'))\n",
        "\n",
        "first_list.append(second_list)\n",
        "\n",
        "print(first_list)"
      ],
      "metadata": {
        "id": "uHtjWYw7d7hm",
        "colab": {
          "base_uri": "https://localhost:8080/"
        },
        "outputId": "454d0353-c3c8-482e-99d6-dbe198a8716f"
      },
      "execution_count": 25,
      "outputs": [
        {
          "output_type": "stream",
          "name": "stdout",
          "text": [
            "['a', 'b', 'c']\n",
            "['a', 'b', 'c', ['d', 'e', 'f']]\n"
          ]
        }
      ]
    },
    {
      "cell_type": "markdown",
      "source": [
        "11. Створіть список, де елементами цього списку також є списки. Отримай перший елемент з останнього рядка та виведи значення на екран."
      ],
      "metadata": {
        "id": "JC3BkD-67_--"
      }
    },
    {
      "cell_type": "code",
      "source": [
        "list_of_lists = [\n",
        "    [1, 2, 3], #Перший рядок\n",
        "    [4, 5, 6], #Другий рядок\n",
        "    [7, 8, 9]  #Третій рядок\n",
        "    ]\n",
        "print(list_of_lists)\n",
        "\n",
        "first_of_last = list_of_lists[-1][0]\n",
        "print(first_of_last)"
      ],
      "metadata": {
        "id": "Kz2jZHsGeLlz",
        "colab": {
          "base_uri": "https://localhost:8080/"
        },
        "outputId": "bcc97531-8692-4fa9-d875-a441e6431f44"
      },
      "execution_count": 33,
      "outputs": [
        {
          "output_type": "stream",
          "name": "stdout",
          "text": [
            "[[1, 2, 3], [4, 5, 6], [7, 8, 9]]\n",
            "7\n"
          ]
        }
      ]
    },
    {
      "cell_type": "markdown",
      "source": [
        "12. Створіть список з десяти елементів різного типу. Отримайте всі елементи, окрім двох перших та двох останніх та збережіть їх в новій змінній."
      ],
      "metadata": {
        "id": "JA47PKTv8zFK"
      }
    },
    {
      "cell_type": "code",
      "source": [
        "multi_type_list = [1, 2.5, 'a', True, (3,4), [5,6], None, {7, 8}, {\"company\": \"Apple\", \"product\": \"iPhone\"}, range(5)]\n",
        "print(multi_type_list)\n",
        "\n",
        "print()\n",
        "\n",
        "no_2_first_no_2_last = multi_type_list[2:-2]\n",
        "print(no_2_first_no_2_last)"
      ],
      "metadata": {
        "id": "_rHdUR-ueP4-",
        "colab": {
          "base_uri": "https://localhost:8080/"
        },
        "outputId": "9f7d7118-19fe-47e7-8d63-39c03e60dfcc"
      },
      "execution_count": 59,
      "outputs": [
        {
          "output_type": "stream",
          "name": "stdout",
          "text": [
            "[1, 2.5, 'a', True, (3, 4), [5, 6], None, {8, 7}, {'company': 'Apple', 'product': 'iPhone'}, range(0, 5)]\n",
            "\n",
            "['a', True, (3, 4), [5, 6], None, {8, 7}]\n"
          ]
        }
      ]
    },
    {
      "cell_type": "markdown",
      "source": [
        "# V. Робота з кортежами."
      ],
      "metadata": {
        "id": "pCjR1dJb1Qbi"
      }
    },
    {
      "cell_type": "markdown",
      "source": [
        "14. Створити кортеж з один елементом."
      ],
      "metadata": {
        "id": "fAZCxAX06R_k"
      }
    },
    {
      "cell_type": "code",
      "source": [
        "one_element_tuple = ('element',)\n",
        "print(one_element_tuple)"
      ],
      "metadata": {
        "id": "H7d82WkQev3e",
        "colab": {
          "base_uri": "https://localhost:8080/"
        },
        "outputId": "48a794a3-3567-48fd-e5e7-df365b96267b"
      },
      "execution_count": 39,
      "outputs": [
        {
          "output_type": "stream",
          "name": "stdout",
          "text": [
            "('element',)\n"
          ]
        }
      ]
    },
    {
      "cell_type": "markdown",
      "source": [
        "15. Порівняйте список та кортеж. Назвіть схожості та відмінності, випадки використання."
      ],
      "metadata": {
        "id": "8LCtYcmI6w1M"
      }
    },
    {
      "cell_type": "markdown",
      "source": [
        "Списки можна змінювати (mutable), кортежі не можна змінювати (immutable), і списки і кортежі можуть містити в собі багато елементів різних типів. Списки використовують коли потрібна структура щоб змінювати об'єкт (додавати або вилучати елементи), кортежі використовують коли потрібна незмінна структура або прискорення виконання коду."
      ],
      "metadata": {
        "id": "fUsN1Hnue0C6"
      }
    },
    {
      "cell_type": "markdown",
      "source": [
        "16. Створіть кортеж з 11ти елементів чисел з рухомою комою та отримайте кожен парний за індексом елемент в зворотньому порядку. Наприклад, маючи (1.2, 2.3, 3.3, 4.3, 5.3, 6.3, 7.3, 8.3, 9.3, 0.3), отримати (0.3, 8.3, 6.3, 4.3, 2.3). Результат збережіть в нову змінну та виведіть на екран."
      ],
      "metadata": {
        "id": "m0xrwFijAmDD"
      }
    },
    {
      "cell_type": "code",
      "source": [
        "eleven_tuple = (1.2, 2.3, 3.3, 4.3, 5.3, 6.3, 7.3, 8.3, 9.3, 0.3)\n",
        "print(eleven_tuple)\n",
        "\n",
        "print('#'*25)\n",
        "\n",
        "even_index = eleven_tuple[::-2]\n",
        "print(even_index)\n",
        "\n"
      ],
      "metadata": {
        "id": "p-5DAH6XfAGA",
        "colab": {
          "base_uri": "https://localhost:8080/"
        },
        "outputId": "9696a9fa-500d-45c7-e333-ff0feb01cacf"
      },
      "execution_count": 41,
      "outputs": [
        {
          "output_type": "stream",
          "name": "stdout",
          "text": [
            "(1.2, 2.3, 3.3, 4.3, 5.3, 6.3, 7.3, 8.3, 9.3, 0.3)\n",
            "#########################\n",
            "(0.3, 8.3, 6.3, 4.3, 2.3)\n"
          ]
        }
      ]
    },
    {
      "cell_type": "markdown",
      "source": [
        "# VI. Множини (Set)."
      ],
      "metadata": {
        "id": "rW_I9dt3x6cW"
      }
    },
    {
      "cell_type": "markdown",
      "source": [
        "17. Створити множину без елементів. Після цого за допомогою методу додайте кілька різних елементів до множини. Чи множини є змінним типом даних?"
      ],
      "metadata": {
        "id": "zNjRLHLw1Bgg"
      }
    },
    {
      "cell_type": "code",
      "source": [
        "mySet = set()\n",
        "print(mySet)\n",
        "mySet.add(1)\n",
        "mySet.add('two')\n",
        "mySet.add(3)\n",
        "print(mySet)"
      ],
      "metadata": {
        "id": "KOv7zc2Kfo4N",
        "colab": {
          "base_uri": "https://localhost:8080/"
        },
        "outputId": "8f820937-3101-47d0-e8b5-c9c8dc4926cb"
      },
      "execution_count": 43,
      "outputs": [
        {
          "output_type": "stream",
          "name": "stdout",
          "text": [
            "set()\n",
            "{'two', 1, 3}\n"
          ]
        }
      ]
    },
    {
      "cell_type": "markdown",
      "source": [
        "Так, множини є змінним типом даних"
      ],
      "metadata": {
        "id": "vxS6dVYiftZQ"
      }
    },
    {
      "cell_type": "markdown",
      "source": [
        "18. Створити множину, маючи список my_list = [1, 1, 2, 67, 67, 8, 9]. Пояснити, чому \"зникли\" деякі елементи."
      ],
      "metadata": {
        "id": "gHpT0Zw_1HEF"
      }
    },
    {
      "cell_type": "code",
      "source": [
        "my_list = [1, 1, 2, 67, 67, 8, 9]\n",
        "print(my_list)\n",
        "\n",
        "print()\n",
        "\n",
        "my_set = set(my_list)\n",
        "print(my_set)"
      ],
      "metadata": {
        "id": "qCN4uvJ_fxmu",
        "colab": {
          "base_uri": "https://localhost:8080/"
        },
        "outputId": "a33198de-b1a0-41c7-816a-4f2f2319dd89"
      },
      "execution_count": 44,
      "outputs": [
        {
          "output_type": "stream",
          "name": "stdout",
          "text": [
            "[1, 1, 2, 67, 67, 8, 9]\n",
            "\n",
            "{1, 2, 67, 8, 9}\n"
          ]
        }
      ]
    },
    {
      "cell_type": "markdown",
      "source": [
        "Зникли елементи котрі повторюються, бо вони вже входять в цю множину, а множина в свою чергу містить лише унікальні елементи."
      ],
      "metadata": {
        "id": "tFNc1e20fyny"
      }
    },
    {
      "cell_type": "markdown",
      "source": [
        "19. Створіть дві множини. Продемонстуйте над ними операції: обʼєднання, різниці, пересічі та симетричної різниці. Використовуйте методи, що не змінюють множини, а створюють нові."
      ],
      "metadata": {
        "id": "SRMkGizS1UwY"
      }
    },
    {
      "cell_type": "code",
      "source": [
        "mySet1 = {1, 2, 3}\n",
        "mySet2 = {3, 4, 5}\n",
        "\n",
        "print(\"Перша множина\", mySet1)\n",
        "print(\"Друга множина\", mySet2)\n",
        "print()\n",
        "\n",
        "# обʼєднання\n",
        "union_set = mySet1.union(mySet2)\n",
        "print(\"обʼєднання \",union_set)\n",
        "print()\n",
        "\n",
        "# різниця\n",
        "difference_set = mySet1.difference(mySet2)\n",
        "print(\"різниця \",difference_set)\n",
        "print()\n",
        "\n",
        "# пересіч\n",
        "intersection_set = mySet1.intersection(mySet2)\n",
        "print(\"пересіч \",intersection_set)\n",
        "print()\n",
        "\n",
        "# симетрична різниця\n",
        "symmetric_difference_set = mySet1.symmetric_difference(mySet2)\n",
        "print(\"симетрична різниця \",symmetric_difference_set)\n"
      ],
      "metadata": {
        "id": "h0T-VuDnf3Ri",
        "colab": {
          "base_uri": "https://localhost:8080/"
        },
        "outputId": "5c7a5634-f86c-4a7c-fc39-83709e5de1f9"
      },
      "execution_count": 50,
      "outputs": [
        {
          "output_type": "stream",
          "name": "stdout",
          "text": [
            "Перша множина {1, 2, 3}\n",
            "Друга множина {3, 4, 5}\n",
            "\n",
            "обʼєднання  {1, 2, 3, 4, 5}\n",
            "\n",
            "різниця  {1, 2}\n",
            "\n",
            "пересіч  {3}\n",
            "\n",
            "симетрична різниця  {1, 2, 4, 5}\n"
          ]
        }
      ]
    },
    {
      "cell_type": "markdown",
      "source": [
        "# VII. Словники (Dictionary)."
      ],
      "metadata": {
        "id": "kWc8gkzTx7Ea"
      }
    },
    {
      "cell_type": "markdown",
      "source": [
        "20. Створіть пустий словник. До нього додайте чотири пари елементів такі, щоб їхні ключі були різних типів. Чи може список бути ключем? Чому?"
      ],
      "metadata": {
        "id": "i5FLwj-B2ybQ"
      }
    },
    {
      "cell_type": "code",
      "source": [
        "my_dict = {}\n",
        "\n",
        "my_dict[1] = 'integer'\n",
        "my_dict['two'] = 'string'\n",
        "my_dict[(3, 4)] = 'tuple'\n",
        "my_dict[3.5] = 'float'\n",
        "\n",
        "print(my_dict)"
      ],
      "metadata": {
        "id": "hxgv3BzrgLAV",
        "colab": {
          "base_uri": "https://localhost:8080/"
        },
        "outputId": "3e53a9e4-d363-4061-d41a-2c27ef098a62"
      },
      "execution_count": 53,
      "outputs": [
        {
          "output_type": "stream",
          "name": "stdout",
          "text": [
            "{1: 'integer', 'two': 'string', (3, 4): 'tuple', 3.5: 'float'}\n"
          ]
        }
      ]
    },
    {
      "cell_type": "markdown",
      "source": [
        "Список не може бути ключем у словнику, тому що ключі мають бути незмінних (immutable типів)"
      ],
      "metadata": {
        "id": "zwa7UVN-gR3m"
      }
    },
    {
      "cell_type": "markdown",
      "source": [
        "21. Створіть словник, де значенням в одній з пар теж буде словник, який теж має вкладений словник. Виведіть на екран значення, що міститься в словнику, що знаходиться на найнижчому рівні ієрархії вкладеності (найбільш внутрішній)."
      ],
      "metadata": {
        "id": "WM_pMlJsgoNf"
      }
    },
    {
      "cell_type": "code",
      "source": [
        "inner_dict = {'inner_key': 'inner_value'}\n",
        "\n",
        "outer_dict = {'outer_key': inner_dict}\n",
        "\n",
        "inner_value = outer_dict['outer_key']['inner_key']\n",
        "print(\"Значення у найбільш внутрішньому словнику:\", inner_value)"
      ],
      "metadata": {
        "id": "60dlP7IHhAy4",
        "colab": {
          "base_uri": "https://localhost:8080/"
        },
        "outputId": "35a1794f-6b75-48c4-aa97-87b140d87263"
      },
      "execution_count": 54,
      "outputs": [
        {
          "output_type": "stream",
          "name": "stdout",
          "text": [
            "Значення у найбільш внутрішньому словнику: inner_value\n"
          ]
        }
      ]
    },
    {
      "cell_type": "markdown",
      "source": [
        "# Вітаю! Ви велика(ий) молодець, що впоралась(вся). Похваліть себе та побалуйте чимось приємним. Я Вами пишаюся."
      ],
      "metadata": {
        "id": "xOZP0hkx6cCr"
      }
    }
  ]
}